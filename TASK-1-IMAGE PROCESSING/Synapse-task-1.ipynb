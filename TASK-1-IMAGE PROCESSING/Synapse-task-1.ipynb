{
 "cells": [
  {
   "cell_type": "code",
   "execution_count": 14,
   "metadata": {},
   "outputs": [
    {
     "data": {
      "text/plain": [
       "-1"
      ]
     },
     "execution_count": 14,
     "metadata": {},
     "output_type": "execute_result"
    }
   ],
   "source": [
    "import cv2\n",
    "\n",
    "\n",
    "large= cv2.imread('rectangles.png')\n",
    "original_image= large\n",
    "\n",
    "gray= cv2.cvtColor(large,cv2.COLOR_BGR2GRAY)\n",
    "\n",
    "edges= cv2.Canny(gray, 50,200)\n",
    "\n",
    "contours, hierarchy= cv2.findContours(edges.copy(), cv2.RETR_EXTERNAL, cv2.CHAIN_APPROX_NONE)\n",
    "\n",
    "\n",
    "cv2.destroyAllWindows()\n",
    "\n",
    "\n",
    "def get_contour_areas(contours):\n",
    "\n",
    "    all_areas= []\n",
    "\n",
    "    for cnt in contours:\n",
    "        area= cv2.contourArea(cnt)\n",
    "        all_areas.append(area)\n",
    "\n",
    "    return all_areas\n",
    "\n",
    "\n",
    "sorted_contours= sorted(contours, key=cv2.contourArea, reverse= True)\n",
    "\n",
    "\n",
    "largest_item= sorted_contours[0]\n",
    "\n",
    "cv2.drawContours(original_image, largest_item, -1,(0,0,205),12)\n",
    "#cv2.waitKey(0)\n",
    "cv2.imshow('Largest Object', original_image)\n",
    "\n",
    "\n",
    "cv2.waitKey(0)\n",
    "#cv2.destroyAllWindows()\n"
   ]
  },
  {
   "cell_type": "code",
   "execution_count": null,
   "metadata": {},
   "outputs": [],
   "source": []
  }
 ],
 "metadata": {
  "kernelspec": {
   "display_name": "Python 3",
   "language": "python",
   "name": "python3"
  },
  "language_info": {
   "codemirror_mode": {
    "name": "ipython",
    "version": 3
   },
   "file_extension": ".py",
   "mimetype": "text/x-python",
   "name": "python",
   "nbconvert_exporter": "python",
   "pygments_lexer": "ipython3",
   "version": "3.8.3"
  }
 },
 "nbformat": 4,
 "nbformat_minor": 4
}
